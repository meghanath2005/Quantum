{
 "cells": [
  {
   "cell_type": "markdown",
   "id": "8515e8b7",
   "metadata": {},
   "source": [
    "## Machine preparation"
   ]
  },
  {
   "cell_type": "code",
   "execution_count": null,
   "id": "20378573",
   "metadata": {},
   "outputs": [],
   "source": [
    "from qiskit.ml.datasets import *\n",
    "from qiskit import QuantumCircuit\n",
    "from qiskit.algorithms.optimizers import COBYLA, ADAM, SPSA, SLSQP, POWELL, L_BFGS_B, TNC, AQGD\n",
    "from qiskit.circuit.library import ZZFeatureMap, RealAmplitudes\n",
    "from qiskit.quantum_info import Statevector\n",
    "\n",
    "import numpy as np\n",
    "import pandas as pd\n",
    "import matplotlib.pyplot as plt\n",
    "\n",
    "from sklearn.preprocessing import normalize\n",
    "from sklearn.model_selection import train_test_split\n",
    "from sklearn.utils import shuffle\n",
    "\n",
    "import warnings\n",
    "warnings.filterwarnings(\"ignore\")\n",
    "\n",
    "%matplotlib inline"
   ]
  },
  {
   "cell_type": "code",
   "execution_count": null,
   "id": "52880688",
   "metadata": {},
   "outputs": [],
   "source": [
    "RANDOM_STATE = 37\n",
    "n = 4 # number of qubits\n",
    "class_labels = ['Iris-setosa', 'Iris-versicolor']"
   ]
  },
  {
   "cell_type": "code",
   "execution_count": null,
   "id": "0a59a19f",
   "metadata": {},
   "outputs": [],
   "source": [
    "def normalizeData(DATA_PATH = \"iris.data\"):\n",
    "    \"\"\"\n",
    "    Normalizes the data\n",
    "    \"\"\"\n",
    "    # Reads the data\n",
    "    data = pd.read_csv(DATA_PATH)\n",
    "    data = shuffle(data, random_state=RANDOM_STATE)\n",
    "    \n",
    "    # remove third type of flower\n",
    "    data = data[data[\"class\"] != \"Iris-virginica\"]\n",
    "    \n",
    "    # Split into data and result\n",
    "    X, Y = data[['sepal_length', 'sepal_width', 'petal_length', 'petal_width']].values, data['class'].values\n",
    "    \n",
    "    # normalize the data\n",
    "    X = normalize(X)\n",
    "    X_train, X_test, Y_train, Y_test = train_test_split(X, Y, test_size=0.3, random_state=RANDOM_STATE)\n",
    "    return X_train, X_test, Y_train, Y_test"
   ]
  },
  {
   "cell_type": "code",
   "execution_count": null,
   "id": "7907db28",
   "metadata": {},
   "outputs": [],
   "source": [
    "X_train, X_test, Y_train, Y_test = normalizeData()\n",
    "print(X_train)"
   ]
  },
  {
   "cell_type": "code",
   "execution_count": null,
   "id": "afb9d8b1",
   "metadata": {},
   "outputs": [],
   "source": [
    "sv = Statevector.from_label('0' * n)\n",
    "feature_map = ZZFeatureMap(n, reps=1)\n",
    "var_form = RealAmplitudes(n, reps=1)\n",
    "circuit = feature_map.combine(var_form)\n",
    "circuit.draw(output='mpl', filename=\"overallcircuit.png\")"
   ]
  },
  {
   "cell_type": "code",
   "execution_count": null,
   "id": "228e8443",
   "metadata": {},
   "outputs": [],
   "source": [
    "\n",
    "def get_data_dict(params, x):\n",
    "    parameters = {}\n",
    "    for i, p in enumerate(feature_map.ordered_parameters):\n",
    "        parameters[p] = x[i]\n",
    "    for i, p in enumerate(var_form.ordered_parameters):\n",
    "        parameters[p] = params[i]\n",
    "    return parameters"
   ]
  },
  {
   "cell_type": "code",
   "execution_count": null,
   "id": "4037484e",
   "metadata": {},
   "outputs": [],
   "source": [
    "def assign_label(bit_string, class_labels):\n",
    "    hamming_weight = sum([int(k) for k in list(bit_string)])\n",
    "    is_odd_parity = hamming_weight & 1\n",
    "    if is_odd_parity:\n",
    "        return class_labels[1]\n",
    "    else:\n",
    "        return class_labels[0]"
   ]
  },
  {
   "cell_type": "code",
   "execution_count": null,
   "id": "8d610b73",
   "metadata": {},
   "outputs": [],
   "source": [
    "def return_probabilities(counts, class_labels):\n",
    "    shots = sum(counts.values())\n",
    "    result = {class_labels[0]: 0,\n",
    "    class_labels[1]: 0}\n",
    "    for key, item in counts.items():\n",
    "        label = assign_label(key, class_labels)\n",
    "        result[label] += counts[key]/shots\n",
    "    return result"
   ]
  },
  {
   "cell_type": "code",
   "execution_count": null,
   "id": "b90a2ffc",
   "metadata": {},
   "outputs": [],
   "source": [
    "def classify(x_list, params, class_labels):\n",
    "    qc_list = []\n",
    "    for x in x_list:\n",
    "        circ_ = circuit.assign_parameters(get_data_dict(params, x))\n",
    "        qc = sv.evolve(circ_)\n",
    "        qc_list += [qc]\n",
    "        probs = []\n",
    "    for qc in qc_list:\n",
    "        counts = qc.to_dict()\n",
    "        prob = return_probabilities(counts, class_labels)\n",
    "        probs += [prob]\n",
    "    return probs"
   ]
  },
  {
   "cell_type": "code",
   "execution_count": null,
   "id": "bf3ffe5f",
   "metadata": {},
   "outputs": [],
   "source": [
    "def mse_cost(probs, expected_label):\n",
    "    p = probs.get(expected_label)\n",
    "    actual, pred = np.array(1), np.array(p)\n",
    "    return np.square(np.subtract(actual,pred)).mean()"
   ]
  },
  {
   "cell_type": "code",
   "execution_count": null,
   "id": "673b244a",
   "metadata": {},
   "outputs": [],
   "source": [
    "\n",
    "cost_list = []\n",
    "def cost_function(X, Y, class_labels, params, shots=100, print_value=False):\n",
    "    # map training input to list of labels and list of samples\n",
    "    cost = 0\n",
    "    training_labels = []\n",
    "    training_samples = []\n",
    "    for sample in X:\n",
    "        training_samples += [sample]\n",
    "    for label in Y:\n",
    "#         print(label)\n",
    "        if label == 'Iris-setosa':\n",
    "            training_labels += [class_labels[0]]\n",
    "        elif label == 'Iris-versicolor':\n",
    "            training_labels += [class_labels[1]]\n",
    "    print(params)\n",
    "    probs = classify(training_samples, params, class_labels)\n",
    "    # evaluate costs for all classified samples\n",
    "    for i, prob in enumerate(probs):\n",
    "#         print(i)\n",
    "#         print(prob)\n",
    "#         print(training_labels)\n",
    "#         print(training_labels[i])\n",
    "        cost += mse_cost(prob, training_labels[i])\n",
    "    cost /= len(training_samples)\n",
    "    # print resulting objective function\n",
    "    if print_value:\n",
    "        print('%.4f' % cost)\n",
    "    # return objective value\n",
    "    cost_list.append(cost)\n",
    "    return [cost]"
   ]
  },
  {
   "cell_type": "code",
   "execution_count": null,
   "id": "44186100",
   "metadata": {},
   "outputs": [],
   "source": [
    "\n",
    "cost_list = []\n",
    "optimizer = ADAM(maxiter=100, )\n",
    "\n",
    "# define objective function for training\n",
    "objective_function = lambda params: cost_function(X_train, Y_train, class_labels, params, print_value=True)\n",
    "# randomly initialize the parameters\n",
    "np.random.seed(RANDOM_STATE)\n",
    "init_params = 2*np.pi*np.random.rand(n*(1)*2)\n",
    "# train classifier\n",
    "opt_params, value, _ = optimizer.optimize(len(init_params), objective_function, initial_point=init_params)\n",
    "# print results\n",
    "print()\n",
    "print('opt_params:', opt_params)\n",
    "print('opt_value: ', value)"
   ]
  },
  {
   "cell_type": "code",
   "execution_count": null,
   "id": "80b82218",
   "metadata": {},
   "outputs": [],
   "source": [
    "\n",
    "fig = plt.figure()\n",
    "plt.plot(range(0,901,1), cost_list)\n",
    "plt.xlabel('Steps')\n",
    "plt.ylabel('Cost value')\n",
    "plt.title(\"ADAM Cost value against steps\")\n",
    "plt.show()\n",
    "fig.savefig('../../Output/Figures/costvssteps.jpeg')"
   ]
  },
  {
   "cell_type": "code",
   "execution_count": null,
   "id": "c8393a4d",
   "metadata": {},
   "outputs": [],
   "source": [
    "def test_model(X, Y, class_labels, params):\n",
    "    accuracy = 0\n",
    "    training_labels = []\n",
    "    training_samples = []\n",
    "    for sample in X:\n",
    "        training_samples += [sample]\n",
    "    probs = classify(training_samples, params, class_labels)\n",
    "    for i, prob in enumerate(probs):\n",
    "        if (prob.get('Iris-setosa') >= prob.get('Iris-versicolor')) and (Y_test[i] == 0):\n",
    "            accuracy += 1\n",
    "        elif (prob.get('Iris-versicolor') >= prob.get('Iris-setosa')) and (Y_test[i] == 1):\n",
    "            accuracy += 1\n",
    "    accuracy /= len(Y_test)\n",
    "    print(\"Test accuracy: {}\\n\".format(accuracy))"
   ]
  },
  {
   "cell_type": "code",
   "execution_count": null,
   "id": "61e8e5bf",
   "metadata": {},
   "outputs": [],
   "source": [
    "from qiskit_machine_learning.neural_networks import TwoLayerQNN\n",
    "import numpy as np\n",
    "\n",
    "from qiskit import Aer, QuantumCircuit\n",
    "from qiskit.circuit import Parameter\n",
    "from qiskit.circuit.library import RealAmplitudes, ZZFeatureMap\n",
    "from qiskit.opflow import StateFn, PauliSumOp, AerPauliExpectation, ListOp, Gradient\n",
    "from qiskit.utils import QuantumInstance"
   ]
  },
  {
   "cell_type": "code",
   "execution_count": null,
   "id": "92a98cb9",
   "metadata": {},
   "outputs": [],
   "source": [
    "# set method to calculcate expected values\n",
    "expval = AerPauliExpectation()\n",
    "\n",
    "# define gradient method\n",
    "gradient = Gradient()\n",
    "\n",
    "# define quantum instances (statevector and sample based)\n",
    "qi_sv = QuantumInstance(Aer.get_backend('aer_simulator_statevector'))\n",
    "\n",
    "# we set shots to 10 as this will determine the number of samples later on.\n",
    "qi_qasm = QuantumInstance(Aer.get_backend('aer_simulator'), shots=10)"
   ]
  },
  {
   "cell_type": "code",
   "execution_count": null,
   "id": "13c3ccec",
   "metadata": {},
   "outputs": [],
   "source": [
    "num_qubits = 4"
   ]
  },
  {
   "cell_type": "code",
   "execution_count": null,
   "id": "cf6aa7e7",
   "metadata": {},
   "outputs": [],
   "source": [
    "# specify the feature map\n",
    "fm = ZZFeatureMap(num_qubits, reps=2)\n",
    "fm.draw(output='mpl')"
   ]
  },
  {
   "cell_type": "code",
   "execution_count": null,
   "id": "3fbb4df4",
   "metadata": {},
   "outputs": [],
   "source": [
    "# specify the ansatz\n",
    "ansatz = RealAmplitudes(num_qubits, reps=1)\n",
    "ansatz.draw(output='mpl')"
   ]
  },
  {
   "cell_type": "code",
   "execution_count": null,
   "id": "6b0b82f1",
   "metadata": {},
   "outputs": [],
   "source": [
    "# specify the observable\n",
    "observable = PauliSumOp.from_list([('Z'*num_qubits, 1)])\n",
    "print(observable)"
   ]
  },
  {
   "cell_type": "code",
   "execution_count": null,
   "id": "d30cad2e",
   "metadata": {},
   "outputs": [],
   "source": [
    "# define two layer QNN\n",
    "qnn3 = TwoLayerQNN(num_qubits,\n",
    "                   feature_map=fm,\n",
    "                   ansatz=ansatz,\n",
    "                   observable=observable, quantum_instance=qi_sv)"
   ]
  },
  {
   "cell_type": "code",
   "execution_count": null,
   "id": "848594a4",
   "metadata": {},
   "outputs": [],
   "source": [
    "# define (random) input and weights\n",
    "input3 = np.random.rand(qnn3.num_inputs)\n",
    "weights3 = np.random.rand(qnn3.num_weights)"
   ]
  },
  {
   "cell_type": "code",
   "execution_count": null,
   "id": "ff8f341a",
   "metadata": {},
   "outputs": [],
   "source": [
    "import numpy as np\n",
    "import matplotlib.pyplot as plt\n",
    "\n",
    "from qiskit import Aer, QuantumCircuit\n",
    "from qiskit.opflow import Z, I, StateFn\n",
    "from qiskit.utils import QuantumInstance\n",
    "from qiskit.circuit import Parameter\n",
    "from qiskit.circuit.library import RealAmplitudes, ZZFeatureMap\n",
    "from qiskit.algorithms.optimizers import COBYLA, L_BFGS_B\n",
    "\n",
    "from qiskit_machine_learning.neural_networks import TwoLayerQNN, CircuitQNN\n",
    "from qiskit_machine_learning.algorithms.classifiers import NeuralNetworkClassifier, VQC\n",
    "from qiskit_machine_learning.algorithms.regressors import NeuralNetworkRegressor, VQR\n",
    "\n",
    "from typing import Union\n",
    "\n",
    "from qiskit_machine_learning.exceptions import QiskitMachineLearningError\n",
    "\n",
    "from IPython.display import clear_output"
   ]
  },
  {
   "cell_type": "code",
   "execution_count": null,
   "id": "35ba339e",
   "metadata": {},
   "outputs": [],
   "source": [
    "quantum_instance = QuantumInstance(Aer.get_backend('aer_simulator'), shots=1024)"
   ]
  },
  {
   "cell_type": "code",
   "execution_count": 12,
   "id": "e19fae26",
   "metadata": {},
   "outputs": [
    {
     "data": {
      "image/png": "[encoded data removed]",
      "text/plain": [
       "<Figure size 432x288 with 1 Axes>"
      ]
     },
     "metadata": {
      "needs_background": "light"
     },
     "output_type": "display_data"
    },
    {
     "name": "stdout",
     "output_type": "stream",
     "text": [
      "[[ 0.35467029  0.6575292 ]\n",
      " [ 0.8932122   0.17129725]\n",
      " [ 0.22382127 -0.99840926]\n",
      " [ 0.61305702 -0.26062516]\n",
      " [ 0.07422406 -0.07011414]\n",
      " [-0.10384371  0.14335466]\n",
      " [-0.76948391  0.05259415]\n",
      " [-0.00122952  0.80063792]\n",
      " [ 0.73700827 -0.71803339]\n",
      " [ 0.21080489 -0.21849291]\n",
      " [-0.14430536  0.22444962]\n",
      " [-0.42071168 -0.67499733]\n",
      " [-0.71072595  0.56958122]\n",
      " [ 0.49800825  0.82397387]\n",
      " [-0.75212601 -0.52530416]\n",
      " [-0.76093866  0.4117477 ]\n",
      " [-0.96025838 -0.62081575]\n",
      " [-0.40289457  0.49804943]\n",
      " [-0.03294083  0.75129413]\n",
      " [-0.01552392 -0.40118872]]\n",
      "[[0. 1.]\n",
      " [0. 1.]\n",
      " [1. 0.]\n",
      " [0. 1.]\n",
      " [0. 1.]\n",
      " [0. 1.]\n",
      " [1. 0.]\n",
      " [0. 1.]\n",
      " [0. 1.]\n",
      " [1. 0.]\n",
      " [0. 1.]\n",
      " [1. 0.]\n",
      " [1. 0.]\n",
      " [0. 1.]\n",
      " [1. 0.]\n",
      " [1. 0.]\n",
      " [1. 0.]\n",
      " [0. 1.]\n",
      " [0. 1.]\n",
      " [1. 0.]]\n"
     ]
    }
   ],
   "source": [
    "num_inputs = 2\n",
    "num_samples = 20\n",
    "X = 2*np.random.rand(num_samples, num_inputs) - 1\n",
    "y01 = 1*(np.sum(X, axis=1) >= 0)  # in { 0,  1}\n",
    "y = 2*y01-1                       # in {-1, +1}\n",
    "y_one_hot = np.zeros((num_samples, 2))\n",
    "for i in range(num_samples):\n",
    "    y_one_hot[i, y01[i]] = 1\n",
    "\n",
    "for x, y_target in zip(X, y):\n",
    "    if y_target == 1:\n",
    "        plt.plot(x[0], x[1], 'bo')\n",
    "    else:\n",
    "        plt.plot(x[0], x[1], 'go')\n",
    "plt.plot([-1, 1], [1, -1], '--', color='black')\n",
    "plt.show()\n",
    "print(X)\n",
    "print(y_one_hot)"
   ]
  },
  {
   "cell_type": "code",
   "execution_count": null,
   "id": "b461c345",
   "metadata": {},
   "outputs": [],
   "source": [
    "# construct QNN\n",
    "opflow_qnn = TwoLayerQNN(num_inputs, quantum_instance=quantum_instance)"
   ]
  },
  {
   "cell_type": "code",
   "execution_count": null,
   "id": "0240b29f",
   "metadata": {},
   "outputs": [],
   "source": [
    "# QNN maps inputs to [-1, +1]\n",
    "opflow_qnn.forward(X[0, :], np.random.rand(opflow_qnn.num_weights))"
   ]
  },
  {
   "cell_type": "code",
   "execution_count": null,
   "id": "d0f2d37b",
   "metadata": {},
   "outputs": [],
   "source": [
    "# callback function that draws a live plot when the .fit() method is called\n",
    "def callback_graph(weights, obj_func_eval):\n",
    "    clear_output(wait=True)\n",
    "    objective_func_vals.append(obj_func_eval)\n",
    "    plt.title(\"Objective function value against iteration\")\n",
    "    plt.xlabel(\"Iteration\")\n",
    "    plt.ylabel(\"Objective function value\")\n",
    "    plt.plot(range(len(objective_func_vals)), objective_func_vals)\n",
    "    plt.show()"
   ]
  },
  {
   "cell_type": "code",
   "execution_count": null,
   "id": "1c8db77e",
   "metadata": {},
   "outputs": [],
   "source": [
    "# construct neural network classifier\n",
    "opflow_classifier = NeuralNetworkClassifier(opflow_qnn, optimizer=COBYLA(), callback=callback_graph)"
   ]
  },
  {
   "cell_type": "code",
   "execution_count": null,
   "id": "6a256ff7",
   "metadata": {},
   "outputs": [],
   "source": [
    "# create empty array for callback to store evaluations of the objective function\n",
    "objective_func_vals = []\n",
    "plt.rcParams[\"figure.figsize\"] = (12, 6)\n",
    "\n",
    "# fit classifier to data\n",
    "opflow_classifier.fit(X, y)\n",
    "\n",
    "# return to default figsize\n",
    "plt.rcParams[\"figure.figsize\"] = (6, 4)\n",
    "\n",
    "# score classifier\n",
    "opflow_classifier.score(X, y)"
   ]
  },
  {
   "cell_type": "code",
   "execution_count": null,
   "id": "a584ad7d",
   "metadata": {},
   "outputs": [],
   "source": [
    "# evaluate data points\n",
    "y_predict = opflow_classifier.predict(X)\n",
    "\n",
    "# plot results\n",
    "# red == wrongly classified\n",
    "for x, y_target, y_p in zip(X, y, y_predict):\n",
    "    if y_target == 1:\n",
    "        plt.plot(x[0], x[1], 'bo')\n",
    "    else:\n",
    "        plt.plot(x[0], x[1], 'go')\n",
    "    if y_target != y_p:\n",
    "        plt.scatter(x[0], x[1], s=200, facecolors='none', edgecolors='r', linewidths=2)\n",
    "plt.plot([-1, 1], [1, -1], '--', color='black')\n",
    "plt.show()"
   ]
  },
  {
   "cell_type": "code",
   "execution_count": 1,
   "id": "7e93c72c",
   "metadata": {},
   "outputs": [],
   "source": [
    "import numpy as np\n",
    "import matplotlib.pyplot as plt\n",
    "\n",
    "from qiskit import Aer, QuantumCircuit\n",
    "from qiskit.opflow import Z, I, StateFn\n",
    "from qiskit.utils import QuantumInstance\n",
    "from qiskit.circuit import Parameter\n",
    "from qiskit.circuit.library import RealAmplitudes, ZZFeatureMap\n",
    "from qiskit.algorithms.optimizers import COBYLA, L_BFGS_B\n",
    "\n",
    "import pandas as pd\n",
    "\n",
    "from sklearn.preprocessing import normalize\n",
    "from sklearn.model_selection import train_test_split\n",
    "from sklearn.utils import shuffle\n",
    "\n",
    "from qiskit_machine_learning.neural_networks import TwoLayerQNN, CircuitQNN\n",
    "from qiskit_machine_learning.algorithms.classifiers import NeuralNetworkClassifier, VQC\n",
    "from qiskit_machine_learning.algorithms.regressors import NeuralNetworkRegressor, VQR\n",
    "\n",
    "from typing import Union\n",
    "\n",
    "from qiskit_machine_learning.exceptions import QiskitMachineLearningError\n",
    "\n",
    "from IPython.display import clear_output"
   ]
  },
  {
   "cell_type": "code",
   "execution_count": 2,
   "id": "d6df0858",
   "metadata": {},
   "outputs": [],
   "source": [
    "quantum_instance = QuantumInstance(Aer.get_backend('aer_simulator'), shots=1024)"
   ]
  },
  {
   "cell_type": "code",
   "execution_count": 3,
   "id": "6f5bcdc0",
   "metadata": {},
   "outputs": [],
   "source": [
    "RANDOM_STATE = 37\n",
    "num_inputs = 4 # number of qubits\n",
    "class_labels = ['Iris-setosa', 'Iris-versicolor']"
   ]
  },
  {
   "cell_type": "code",
   "execution_count": 4,
   "id": "abec7d24",
   "metadata": {},
   "outputs": [],
   "source": [
    "def normalizeData(DATA_PATH = \"iris.data\"):\n",
    "    \"\"\"\n",
    "    Normalizes the data\n",
    "    \"\"\"\n",
    "    # Reads the data\n",
    "    data = pd.read_csv(DATA_PATH)\n",
    "    data = shuffle(data, random_state=RANDOM_STATE)\n",
    "    \n",
    "    # remove third type of flower\n",
    "    data = data[data[\"class\"] != \"Iris-virginica\"]\n",
    "    \n",
    "    data['class'] = data['class'].replace([\"Iris-setosa\"],-1)\n",
    "    data['class'] = data['class'].replace([\"Iris-versicolor\"],1)\n",
    "    \n",
    "    # Split into data and result\n",
    "    X, Y = data[['sepal_length', 'sepal_width', 'petal_length', 'petal_width']].values, data['class'].values\n",
    "    \n",
    "    # normalize the data\n",
    "    X = normalize(X)\n",
    "    X_train, X_test, Y_train, Y_test = train_test_split(X, Y, test_size=0.3, random_state=RANDOM_STATE)\n",
    "    return X_train, X_test, Y_train, Y_test"
   ]
  },
  {
   "cell_type": "code",
   "execution_count": 5,
   "id": "a9f43b44",
   "metadata": {},
   "outputs": [
    {
     "name": "stdout",
     "output_type": "stream",
     "text": [
      "[[0.74714194 0.33960997 0.54337595 0.17659719]\n",
      " [0.79524064 0.54144043 0.27072022 0.03384003]\n",
      " [0.81228363 0.5361072  0.22743942 0.03249135]\n",
      " [0.80779568 0.53853046 0.23758697 0.03167826]\n",
      " [0.81803119 0.51752994 0.25041771 0.01669451]\n",
      " [0.73239618 0.38547167 0.53966034 0.15418867]\n",
      " [0.77381111 0.59732787 0.2036345  0.05430253]\n",
      " [0.81609427 0.5336001  0.21971769 0.03138824]\n",
      " [0.8173379  0.51462016 0.25731008 0.03027177]\n",
      " [0.78609038 0.57170209 0.23225397 0.03573138]\n",
      " [0.76741698 0.34773582 0.51560829 0.15588157]\n",
      " [0.76986879 0.35413965 0.5081134  0.15397376]\n",
      " [0.786991   0.55745196 0.26233033 0.03279129]\n",
      " [0.78591858 0.57017622 0.23115252 0.06164067]\n",
      " [0.80846584 0.52213419 0.26948861 0.03368608]\n",
      " [0.80218492 0.54548574 0.24065548 0.0320874 ]\n",
      " [0.79837025 0.55735281 0.22595384 0.03012718]\n",
      " [0.82699754 0.52627116 0.19547215 0.03007264]\n",
      " [0.76785726 0.34902603 0.51190484 0.16287881]\n",
      " [0.790965   0.5694948  0.2214702  0.0316386 ]\n",
      " [0.82210585 0.51381615 0.23978087 0.05138162]\n",
      " [0.73446047 0.37367287 0.5411814  0.16750853]\n",
      " [0.73923462 0.37588201 0.52623481 0.187941  ]\n",
      " [0.75384916 0.31524601 0.54825394 0.17818253]\n",
      " [0.69333409 0.38518561 0.57777841 0.1925928 ]\n",
      " [0.82647451 0.4958847  0.26447184 0.03305898]\n",
      " [0.70779525 0.31850786 0.60162596 0.1887454 ]\n",
      " [0.80533308 0.54831188 0.2227517  0.03426949]\n",
      " [0.78258054 0.38361791 0.4603415  0.16879188]\n",
      " [0.75916547 0.37183615 0.51127471 0.15493173]\n",
      " [0.76467269 0.31486523 0.53976896 0.15743261]\n",
      " [0.74143307 0.29421947 0.57667016 0.17653168]\n",
      " [0.72992443 0.39103094 0.53440896 0.16944674]\n",
      " [0.82225028 0.51771314 0.22840286 0.06090743]\n",
      " [0.77530021 0.28304611 0.54147951 0.15998258]\n",
      " [0.80641965 0.54278246 0.23262105 0.03101614]\n",
      " [0.72232962 0.35482858 0.57026022 0.16474184]\n",
      " [0.72460233 0.37623583 0.54345175 0.19508524]\n",
      " [0.71524936 0.40530797 0.53643702 0.19073316]\n",
      " [0.8025126  0.55989251 0.20529392 0.01866308]\n",
      " [0.75728103 0.3542121  0.52521104 0.15878473]\n",
      " [0.6985796  0.37889063 0.56833595 0.21312598]\n",
      " [0.78892752 0.28927343 0.52595168 0.13148792]\n",
      " [0.77242925 0.33706004 0.51963422 0.14044168]\n",
      " [0.72634846 0.38046824 0.54187901 0.18446945]\n",
      " [0.78010936 0.57660257 0.23742459 0.0508767 ]\n",
      " [0.82813287 0.50702013 0.23660939 0.03380134]\n",
      " [0.86093857 0.44003527 0.24871559 0.0573959 ]\n",
      " [0.80033301 0.56023311 0.20808658 0.04801998]\n",
      " [0.82307218 0.51442011 0.24006272 0.01714734]\n",
      " [0.80003025 0.53915082 0.26087943 0.03478392]\n",
      " [0.81803119 0.51752994 0.25041771 0.01669451]\n",
      " [0.75519285 0.33928954 0.53629637 0.16417236]\n",
      " [0.77577075 0.60712493 0.16864581 0.03372916]\n",
      " [0.76945444 0.35601624 0.50531337 0.16078153]\n",
      " [0.73544284 0.35458851 0.55158213 0.1707278 ]\n",
      " [0.76185188 0.34011245 0.53057542 0.14964948]\n",
      " [0.74088576 0.33173989 0.55289982 0.18798594]\n",
      " [0.77964883 0.58091482 0.22930848 0.0458617 ]\n",
      " [0.79778206 0.5424918  0.25529026 0.06382256]\n",
      " [0.776114   0.54974742 0.30721179 0.03233808]\n",
      " [0.74549757 0.37274878 0.52417798 0.17472599]\n",
      " [0.77011854 0.35349703 0.50499576 0.16412362]\n",
      " [0.76701103 0.35063361 0.51499312 0.15340221]\n",
      " [0.77867447 0.59462414 0.19820805 0.02831544]\n",
      " [0.73659895 0.33811099 0.56754345 0.14490471]\n",
      " [0.76262994 0.34186859 0.52595168 0.1577855 ]\n",
      " [0.80642366 0.5315065  0.25658935 0.03665562]\n",
      " [0.81120865 0.55945424 0.16783627 0.02797271]\n",
      " [0.80597792 0.52151512 0.26865931 0.07901744]]\n",
      "[ 1 -1 -1 -1 -1  1 -1 -1 -1 -1  1  1 -1 -1 -1 -1 -1 -1  1 -1 -1  1  1  1\n",
      "  1 -1  1 -1  1  1  1  1  1 -1  1 -1  1  1  1 -1  1  1  1  1  1 -1 -1 -1\n",
      " -1 -1 -1 -1  1 -1  1  1  1  1 -1 -1 -1  1  1  1 -1  1  1 -1 -1 -1]\n"
     ]
    }
   ],
   "source": [
    "X_train, X_test, Y_train, Y_test = normalizeData()\n",
    "print(X_train)\n",
    "print(Y_train)"
   ]
  },
  {
   "cell_type": "code",
   "execution_count": 6,
   "id": "6374ba97",
   "metadata": {},
   "outputs": [],
   "source": [
    "# construct QNN\n",
    "opflow_qnn = TwoLayerQNN(num_inputs, quantum_instance=quantum_instance)"
   ]
  },
  {
   "cell_type": "code",
   "execution_count": 7,
   "id": "0a4e8ce1",
   "metadata": {},
   "outputs": [
    {
     "ename": "NameError",
     "evalue": "name 'X' is not defined",
     "output_type": "error",
     "traceback": [
      "\u001b[0;31m---------------------------------------------------------------------------\u001b[0m",
      "\u001b[0;31mNameError\u001b[0m                                 Traceback (most recent call last)",
      "\u001b[0;32m/var/folders/zy/xzyh89157tb283ckg2x_1n9m0000gn/T/ipykernel_2250/3789197414.py\u001b[0m in \u001b[0;36m<module>\u001b[0;34m\u001b[0m\n\u001b[1;32m      1\u001b[0m \u001b[0;31m# QNN maps inputs to [-1, +1]\u001b[0m\u001b[0;34m\u001b[0m\u001b[0;34m\u001b[0m\u001b[0;34m\u001b[0m\u001b[0m\n\u001b[0;32m----> 2\u001b[0;31m \u001b[0mopflow_qnn\u001b[0m\u001b[0;34m.\u001b[0m\u001b[0mforward\u001b[0m\u001b[0;34m(\u001b[0m\u001b[0mX\u001b[0m\u001b[0;34m[\u001b[0m\u001b[0;36m0\u001b[0m\u001b[0;34m,\u001b[0m \u001b[0;34m:\u001b[0m\u001b[0;34m]\u001b[0m\u001b[0;34m,\u001b[0m \u001b[0mnp\u001b[0m\u001b[0;34m.\u001b[0m\u001b[0mrandom\u001b[0m\u001b[0;34m.\u001b[0m\u001b[0mrand\u001b[0m\u001b[0;34m(\u001b[0m\u001b[0mopflow_qnn\u001b[0m\u001b[0;34m.\u001b[0m\u001b[0mnum_weights\u001b[0m\u001b[0;34m)\u001b[0m\u001b[0;34m)\u001b[0m\u001b[0;34m\u001b[0m\u001b[0;34m\u001b[0m\u001b[0m\n\u001b[0m",
      "\u001b[0;31mNameError\u001b[0m: name 'X' is not defined"
     ]
    }
   ],
   "source": [
    "# QNN maps inputs to [-1, +1]\n",
    "opflow_qnn.forward(X[0, :], np.random.rand(opflow_qnn.num_weights))"
   ]
  },
  {
   "cell_type": "code",
   "execution_count": 8,
   "id": "4620f187",
   "metadata": {},
   "outputs": [],
   "source": [
    "# callback function that draws a live plot when the .fit() method is called\n",
    "def callback_graph(weights, obj_func_eval):\n",
    "    clear_output(wait=True)\n",
    "    objective_func_vals.append(obj_func_eval)\n",
    "    plt.title(\"Objective function value against iteration\")\n",
    "    plt.xlabel(\"Iteration\")\n",
    "    plt.ylabel(\"Objective function value\")\n",
    "    plt.plot(range(len(objective_func_vals)), objective_func_vals)\n",
    "    plt.show()"
   ]
  },
  {
   "cell_type": "code",
   "execution_count": 9,
   "id": "29f8ad2b",
   "metadata": {},
   "outputs": [],
   "source": [
    "# construct neural network classifier\n",
    "opflow_classifier = NeuralNetworkClassifier(opflow_qnn, optimizer=COBYLA(), callback=callback_graph)"
   ]
  },
  {
   "cell_type": "code",
   "execution_count": 10,
   "id": "0892d559",
   "metadata": {},
   "outputs": [
    {
     "data": {
      "image/png": "[encoded data removed]",
      "text/plain": [
       "<Figure size 864x432 with 1 Axes>"
      ]
     },
     "metadata": {
      "needs_background": "light"
     },
     "output_type": "display_data"
    },
    {
     "data": {
      "text/plain": [
       "1.0"
      ]
     },
     "execution_count": 10,
     "metadata": {},
     "output_type": "execute_result"
    }
   ],
   "source": [
    "# create empty array for callback to store evaluations of the objective function\n",
    "objective_func_vals = []\n",
    "plt.rcParams[\"figure.figsize\"] = (12, 6)\n",
    "\n",
    "# fit classifier to data\n",
    "opflow_classifier.fit(X_train, Y_train)\n",
    "\n",
    "# return to default figsize\n",
    "plt.rcParams[\"figure.figsize\"] = (6, 4)\n",
    "\n",
    "# score classifier\n",
    "opflow_classifier.score(X_train, Y_train)\n",
    "opflow_classifier.score(X_test, Y_test)"
   ]
  },
  {
   "cell_type": "code",
   "execution_count": null,
   "id": "aa077b55",
   "metadata": {},
   "outputs": [],
   "source": [
    "# evaluate data points\n",
    "y_predict = opflow_classifier.predict(X_test)\n",
    "\n",
    "# plot results\n",
    "# red == wrongly classified\n",
    "for x, y_target, y_p in zip(X_test, Y_test, y_predict):\n",
    "    if y_target == 1:\n",
    "        plt.plot(x[0], x[1], 'bo')\n",
    "    else:\n",
    "        plt.plot(x[0], x[1], 'go')\n",
    "    if y_target != y_p:\n",
    "        print(\"wrong\")\n",
    "        plt.scatter(x[0], x[1], s=200, facecolors='none', edgecolors='r', linewidths=2)\n",
    "plt.show()"
   ]
  }
 ],
 "metadata": {
  "kernelspec": {
   "display_name": "Python 3 (ipykernel)",
   "language": "python",
   "name": "python3"
  },
  "language_info": {
   "codemirror_mode": {
    "name": "ipython",
    "version": 3
   },
   "file_extension": ".py",
   "mimetype": "text/x-python",
   "name": "python",
   "nbconvert_exporter": "python",
   "pygments_lexer": "ipython3",
   "version": "3.8.9"
  }
 },
 "nbformat": 4,
 "nbformat_minor": 5
}
